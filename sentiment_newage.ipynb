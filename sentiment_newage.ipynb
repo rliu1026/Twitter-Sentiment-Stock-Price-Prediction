{
 "cells": [
  {
   "cell_type": "code",
   "execution_count": 37,
   "metadata": {},
   "outputs": [],
   "source": [
    "import textblob\n",
    "import csv\n",
    "import numpy as np\n",
    "import pandas as pd\n",
    "import matplotlib.pyplot as plt\n",
    "#import SentiWordNet as swn\n",
    "#from nltk.corpus import sentiwordnet as swn"
   ]
  },
  {
   "cell_type": "code",
   "execution_count": 38,
   "metadata": {},
   "outputs": [],
   "source": [
    "class tweet():\n",
    "    def __init__(self, timestamp, contents, num_followers, polarity, subjectivity):\n",
    "        self.timestamp = timestamp\n",
    "        self.contents = contents\n",
    "        self.num_followers = num_followers\n",
    "        self.polarity = polarity\n",
    "        self.subjectivity = subjectivity"
   ]
  },
  {
   "cell_type": "code",
   "execution_count": 39,
   "metadata": {},
   "outputs": [],
   "source": [
    "# Parameters:\n",
    "\n",
    "tweet_filename = 'tweets_mar_dowjones.csv'\n",
    "stock_filename = 'dji_mar.csv'\n",
    "daysTraced = 3"
   ]
  },
  {
   "cell_type": "code",
   "execution_count": 40,
   "metadata": {},
   "outputs": [
    {
     "name": "stdout",
     "output_type": "stream",
     "text": [
      "12000\n"
     ]
    }
   ],
   "source": [
    "# Load Tweets extracted:\n",
    "\n",
    "tweets_all = []\n",
    "with open(tweet_filename, 'r') as tweet_file:\n",
    "    reader = csv.reader(tweet_file)\n",
    "    next(reader) \n",
    "    for row in reader:\n",
    "        curr_tweet = tweet(row[0], row[1], row[2], row[3], row[4])\n",
    "        tweets_all.append(curr_tweet)\n",
    "print(len(tweets_all))"
   ]
  },
  {
   "cell_type": "code",
   "execution_count": 41,
   "metadata": {},
   "outputs": [
    {
     "name": "stdout",
     "output_type": "stream",
     "text": [
      "(15, 2)\n",
      "[[ 4.82502079e+01 -3.98560606e+01]\n",
      " [ 3.15715681e+01 -1.65129089e+01]\n",
      " [ 4.54609704e+01 -7.69599025e+01]\n",
      " [ 1.76399098e+01 -7.05334776e+01]\n",
      " [ 7.55149303e+01 -4.63537998e+01]\n",
      " [ 1.50000000e-01  0.00000000e+00]\n",
      " [ 2.63293282e+02 -4.66579254e+01]\n",
      " [ 9.07278680e+00 -3.41169553e+00]\n",
      " [ 1.02623388e+02 -2.41232693e+01]\n",
      " [ 6.02141374e+01 -1.63144841e+01]\n",
      " [ 4.13404564e+01 -2.18822481e+01]\n",
      " [ 6.02587933e+01 -3.20292154e+01]\n",
      " [ 1.24660884e+02 -3.41813047e+01]\n",
      " [ 1.51637984e+01 -7.89143519e+00]\n",
      " [ 7.77070227e+00 -1.16491963e+02]]\n"
     ]
    }
   ],
   "source": [
    "# Polarities pre-process:\n",
    "\n",
    "time_list = np.unique([t.timestamp[0:10] for t in tweets_all])\n",
    "polarities = np.zeros((len(time_list), 2))\n",
    "\n",
    "for i in range(len(time_list)):\n",
    "    time = time_list[i]\n",
    "    polarityPos = 0\n",
    "    polarityNeg = 0\n",
    "    \n",
    "    for t in tweets_all:\n",
    "        if t.timestamp[0:10] == time:\n",
    "            polarity = float(t.polarity)\n",
    "            if polarity > 0.0:\n",
    "                polarityPos += polarity\n",
    "            elif polarity < 0.0:\n",
    "                polarityNeg += polarity\n",
    "                \n",
    "    polarities[i,0] = polarityPos\n",
    "    polarities[i,1] = polarityNeg\n",
    "\n",
    "print(np.shape(polarities))\n",
    "print(polarities)"
   ]
  },
  {
   "cell_type": "code",
   "execution_count": 42,
   "metadata": {
    "scrolled": false
   },
   "outputs": [
    {
     "name": "stdout",
     "output_type": "stream",
     "text": [
      "(13, 6)\n",
      "[[ 4.82502079e+01 -3.98560606e+01  3.15715681e+01 -1.65129089e+01\n",
      "   4.54609704e+01 -7.69599025e+01]\n",
      " [ 3.15715681e+01 -1.65129089e+01  4.54609704e+01 -7.69599025e+01\n",
      "   1.76399098e+01 -7.05334776e+01]\n",
      " [ 4.54609704e+01 -7.69599025e+01  1.76399098e+01 -7.05334776e+01\n",
      "   7.55149303e+01 -4.63537998e+01]\n",
      " [ 1.76399098e+01 -7.05334776e+01  7.55149303e+01 -4.63537998e+01\n",
      "   1.50000000e-01  0.00000000e+00]\n",
      " [ 7.55149303e+01 -4.63537998e+01  1.50000000e-01  0.00000000e+00\n",
      "   2.63293282e+02 -4.66579254e+01]\n",
      " [ 1.50000000e-01  0.00000000e+00  2.63293282e+02 -4.66579254e+01\n",
      "   9.07278680e+00 -3.41169553e+00]\n",
      " [ 2.63293282e+02 -4.66579254e+01  9.07278680e+00 -3.41169553e+00\n",
      "   1.02623388e+02 -2.41232693e+01]\n",
      " [ 9.07278680e+00 -3.41169553e+00  1.02623388e+02 -2.41232693e+01\n",
      "   6.02141374e+01 -1.63144841e+01]\n",
      " [ 1.02623388e+02 -2.41232693e+01  6.02141374e+01 -1.63144841e+01\n",
      "   4.13404564e+01 -2.18822481e+01]\n",
      " [ 6.02141374e+01 -1.63144841e+01  4.13404564e+01 -2.18822481e+01\n",
      "   6.02587933e+01 -3.20292154e+01]\n",
      " [ 4.13404564e+01 -2.18822481e+01  6.02587933e+01 -3.20292154e+01\n",
      "   1.24660884e+02 -3.41813047e+01]\n",
      " [ 6.02587933e+01 -3.20292154e+01  1.24660884e+02 -3.41813047e+01\n",
      "   1.51637984e+01 -7.89143519e+00]\n",
      " [ 1.24660884e+02 -3.41813047e+01  1.51637984e+01 -7.89143519e+00\n",
      "   7.77070227e+00 -1.16491963e+02]]\n"
     ]
    }
   ],
   "source": [
    "# Format polarities so that relationship is to be found \n",
    "# between each days' DJI value and polarities of 3 days before it:\n",
    "\n",
    "polaritiesX = np.zeros((len(time_list)-(daysTraced-1), daysTraced*2))\n",
    "for i in range(0, len(polarities)-2):\n",
    "    for j in range(daysTraced):\n",
    "        polaritiesX[i,j*2+0] = polarities[i+j,0]\n",
    "        polaritiesX[i,j*2+1] = polarities[i+j,1]\n",
    "print(np.shape(polaritiesX))\n",
    "print(polaritiesX)"
   ]
  },
  {
   "cell_type": "code",
   "execution_count": 43,
   "metadata": {},
   "outputs": [
    {
     "name": "stdout",
     "output_type": "stream",
     "text": [
      "(12,)\n"
     ]
    }
   ],
   "source": [
    "# Load DJI values:\n",
    "\n",
    "dji = pd.read_csv('dji_mar.csv').to_numpy()\n",
    "djiY = (dji[:,1] + dji[:,4]) / 2 \n",
    "    # average of daily opening and closing price\n",
    "djiY = djiY[daysTraced:]\n",
    "print(np.shape(djiY))"
   ]
  },
  {
   "cell_type": "code",
   "execution_count": 46,
   "metadata": {},
   "outputs": [
    {
     "name": "stdout",
     "output_type": "stream",
     "text": [
      "0.6669596064525688\n"
     ]
    }
   ],
   "source": [
    "# Linear regression:\n",
    "\n",
    "from sklearn.linear_model import LinearRegression\n",
    "lr = LinearRegression().fit(polaritiesX[1:,:], djiY)\n",
    "\n",
    "# Due to the lack of data, there is no validation set:\n",
    "print(lr.score(polaritiesX[1:,:], djiY))\n",
    "dji_hat = lr.predict(polaritiesX[1:,:])"
   ]
  },
  {
   "cell_type": "code",
   "execution_count": 47,
   "metadata": {},
   "outputs": [
    {
     "data": {
      "image/png": "[encoded data removed]",
      "text/plain": [
       "<Figure size 432x288 with 1 Axes>"
      ]
     },
     "metadata": {
      "needs_background": "light"
     },
     "output_type": "display_data"
    }
   ],
   "source": [
    "# Prediction results comparing to actual DJI values:\n",
    "plt.figure()\n",
    "plt.plot(dji_hat, label=\"dji\")\n",
    "plt.plot(djiY, label=\"prediction\")\n",
    "plt.legend()\n",
    "plt.show()"
   ]
  },
  {
   "cell_type": "code",
   "execution_count": null,
   "metadata": {},
   "outputs": [],
   "source": []
  }
 ],
 "metadata": {
  "kernelspec": {
   "display_name": "Python 3",
   "language": "python",
   "name": "python3"
  },
  "language_info": {
   "codemirror_mode": {
    "name": "ipython",
    "version": 3
   },
   "file_extension": ".py",
   "mimetype": "text/x-python",
   "name": "python",
   "nbconvert_exporter": "python",
   "pygments_lexer": "ipython3",
   "version": "3.7.4"
  }
 },
 "nbformat": 4,
 "nbformat_minor": 2
}
